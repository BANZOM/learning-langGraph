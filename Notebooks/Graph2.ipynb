{
 "cells": [
  {
   "cell_type": "markdown",
   "id": "35a77333",
   "metadata": {},
   "source": [
    "# Graph 2 : A Simple Graph with Multiple State Attributes"
   ]
  },
  {
   "cell_type": "code",
   "execution_count": 2,
   "id": "f899ccce",
   "metadata": {},
   "outputs": [],
   "source": [
    "# imports\n",
    "from langgraph.graph import StateGraph \n",
    "from typing import TypedDict, List"
   ]
  },
  {
   "cell_type": "code",
   "execution_count": 3,
   "id": "c15992ae",
   "metadata": {},
   "outputs": [],
   "source": [
    "# Schema for the state\n",
    "class AgentState(TypedDict):\n",
    "    nums: List[int]\n",
    "    name: str\n",
    "    result: int"
   ]
  },
  {
   "cell_type": "code",
   "execution_count": 4,
   "id": "9181c3c2",
   "metadata": {},
   "outputs": [],
   "source": [
    "# Node Function\n",
    "def process_numbers(state: AgentState) -> AgentState:\n",
    "    \"\"\"\n",
    "    Process the numbers in the state and return the sum.\n",
    "    \"\"\"\n",
    "    state['result'] = f\"Hello {state['name']}, the sum of your numbers is {sum(state['nums'])}.\"\n",
    "    return state"
   ]
  },
  {
   "cell_type": "code",
   "execution_count": 5,
   "id": "84e8b327",
   "metadata": {},
   "outputs": [],
   "source": [
    "# Initialize the state graph\n",
    "agent_graph = StateGraph(AgentState)\n",
    "agent_graph.add_node(\"processor\", process_numbers)\n",
    "agent_graph.set_entry_point(\"processor\")\n",
    "agent_graph.set_finish_point(\"processor\")\n",
    "app = agent_graph.compile()"
   ]
  },
  {
   "cell_type": "code",
   "execution_count": 6,
   "id": "4c45c4ad",
   "metadata": {},
   "outputs": [
    {
     "data": {
      "image/png": "[encoded data removed]",
      "text/plain": [
       "<IPython.core.display.Image object>"
      ]
     },
     "metadata": {},
     "output_type": "display_data"
    }
   ],
   "source": [
    "# Visualize the graph\n",
    "from IPython.display import display, Image\n",
    "display(Image(app.get_graph().draw_mermaid_png()))\n"
   ]
  },
  {
   "cell_type": "code",
   "execution_count": 7,
   "id": "2c26f3f4",
   "metadata": {},
   "outputs": [],
   "source": [
    "# Run / Invoke\n",
    "result = app.invoke(\n",
    "    {\n",
    "        \"nums\": [1, 2, 3, 4, 5],\n",
    "        \"name\": \"Muskan\",\n",
    "    }\n",
    ")"
   ]
  },
  {
   "cell_type": "code",
   "execution_count": 8,
   "id": "c23e44e7",
   "metadata": {},
   "outputs": [
    {
     "name": "stdout",
     "output_type": "stream",
     "text": [
      "{'nums': [1, 2, 3, 4, 5], 'name': 'Muskan', 'result': 'Hello Muskan, the sum of your numbers is 15.'}\n",
      "Hello Muskan, the sum of your numbers is 15.\n"
     ]
    }
   ],
   "source": [
    "print(result)\n",
    "print(result['result'])  # Output the result"
   ]
  },
  {
   "cell_type": "markdown",
   "id": "9880450c",
   "metadata": {},
   "source": [
    "## Exercise: Create a simple graph with multiple state attributes that do operations like addition and multiplication\n",
    "- State attributes: `name`, `nums`, `operation`, `result`\n"
   ]
  },
  {
   "cell_type": "code",
   "execution_count": 10,
   "id": "734612be",
   "metadata": {},
   "outputs": [],
   "source": [
    "from langgraph.graph import StateGraph\n",
    "from typing import TypedDict, List"
   ]
  },
  {
   "cell_type": "code",
   "execution_count": 12,
   "id": "0c23523f",
   "metadata": {},
   "outputs": [],
   "source": [
    "# State Schema\n",
    "class AgentState2(TypedDict):\n",
    "    name: str\n",
    "    nums: List[int]\n",
    "    operation: str\n",
    "    result: str"
   ]
  },
  {
   "cell_type": "code",
   "execution_count": 13,
   "id": "19828e0e",
   "metadata": {},
   "outputs": [],
   "source": [
    "# Node Function\n",
    "def perform_operation(state: AgentState2) -> AgentState2:\n",
    "    \"\"\"\n",
    "    Perform the specified operation on the numbers in the state.\n",
    "    \"\"\"\n",
    "    if state['operation'] == '+':\n",
    "        state['result'] = f\"Hello {state['name']}, the sum of your numbers is {sum(state['nums'])}.\"\n",
    "    elif state['operation'] == '*':\n",
    "        product = 1\n",
    "        for num in state['nums']:\n",
    "            product *= num\n",
    "        state['result'] = f\"Hello {state['name']}, the product of your numbers is {product}.\"\n",
    "    else:\n",
    "        state['result'] = f\"Hello {state['name']}, the operation '{state['operation']}' is not supported. Please use '+' or '*'.\"\n",
    "    return state"
   ]
  },
  {
   "cell_type": "code",
   "execution_count": 14,
   "id": "219f57dd",
   "metadata": {},
   "outputs": [],
   "source": [
    "graph = StateGraph(AgentState2)\n",
    "graph.add_node(\"operation_handler\", perform_operation)\n",
    "graph.set_entry_point(\"operation_handler\")\n",
    "graph.set_finish_point(\"operation_handler\")\n",
    "app2 = graph.compile()"
   ]
  },
  {
   "cell_type": "code",
   "execution_count": 16,
   "id": "177b58b6",
   "metadata": {},
   "outputs": [
    {
     "data": {
      "image/png": "[encoded data removed]",
      "text/plain": [
       "<IPython.core.display.Image object>"
      ]
     },
     "metadata": {},
     "output_type": "display_data"
    }
   ],
   "source": [
    "from IPython.display import display, Image\n",
    "display(Image(app2.get_graph().draw_mermaid_png()))"
   ]
  },
  {
   "cell_type": "code",
   "execution_count": 17,
   "id": "ea60f7d9",
   "metadata": {},
   "outputs": [
    {
     "name": "stdout",
     "output_type": "stream",
     "text": [
      "Hello Muskan, the sum of your numbers is 15.\n"
     ]
    }
   ],
   "source": [
    "result2 = app2.invoke(\n",
    "    {\n",
    "        \"name\": \"Muskan\",\n",
    "        \"nums\": [1, 2, 3, 4, 5],\n",
    "        \"operation\": '+',\n",
    "    }\n",
    ")\n",
    "print(result2['result'])  # Output the result for addition"
   ]
  },
  {
   "cell_type": "code",
   "execution_count": 18,
   "id": "d0f0f4aa",
   "metadata": {},
   "outputs": [
    {
     "name": "stdout",
     "output_type": "stream",
     "text": [
      "Hello Muskan, the product of your numbers is 120.\n"
     ]
    }
   ],
   "source": [
    "result2 = app2.invoke(\n",
    "    {\n",
    "        \"name\": \"Muskan\",\n",
    "        \"nums\": [1, 2, 3, 4, 5],\n",
    "        \"operation\": '*',\n",
    "    }\n",
    ")\n",
    "print(result2['result'])  # Output the result for multiplication"
   ]
  }
 ],
 "metadata": {
  "kernelspec": {
   "display_name": "learning-langGraph-FPQ4h7Aw",
   "language": "python",
   "name": "python3"
  },
  "language_info": {
   "codemirror_mode": {
    "name": "ipython",
    "version": 3
   },
   "file_extension": ".py",
   "mimetype": "text/x-python",
   "name": "python",
   "nbconvert_exporter": "python",
   "pygments_lexer": "ipython3",
   "version": "3.12.3"
  }
 },
 "nbformat": 4,
 "nbformat_minor": 5
}
