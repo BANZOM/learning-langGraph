{
 "cells": [
  {
   "cell_type": "markdown",
   "id": "c7e8395b",
   "metadata": {},
   "source": [
    "# Graph 4: MultiConditional Graph\n"
   ]
  },
  {
   "cell_type": "code",
   "execution_count": 1,
   "id": "d2262017",
   "metadata": {},
   "outputs": [],
   "source": [
    "# imports\n",
    "from langgraph.graph import StateGraph, START, END\n",
    "from typing import TypedDict"
   ]
  },
  {
   "cell_type": "code",
   "execution_count": 2,
   "id": "7e8f3435",
   "metadata": {},
   "outputs": [],
   "source": [
    "# StateSchema\n",
    "class AgentState(TypedDict):\n",
    "    num1: int\n",
    "    num2: int\n",
    "    operation: str\n",
    "    result: int"
   ]
  },
  {
   "cell_type": "code",
   "execution_count": 3,
   "id": "30c5aea1",
   "metadata": {},
   "outputs": [],
   "source": [
    "# nodes (do not forget to add docstrings in nodes)\n",
    "def addition_node(state: AgentState) -> AgentState:\n",
    "    \"\"\"\n",
    "    Adds two numbers stored in the state.\n",
    "    \"\"\"\n",
    "    state['result'] = state['num1'] + state['num2']\n",
    "    return state\n",
    "\n",
    "def subtraction_node(state: AgentState) -> AgentState:\n",
    "    \"\"\"\n",
    "    Subtracts num2 from num1 stored in the state.\n",
    "    \"\"\"\n",
    "    state['result'] = state['num1'] - state['num2']\n",
    "    return state\n",
    "\n",
    "def multiplication_node(state: AgentState) -> AgentState:\n",
    "    \"\"\"\n",
    "    Multiplies two numbers stored in the state.\n",
    "    \"\"\"\n",
    "    state['result'] = state['num1'] * state['num2']\n",
    "    return state"
   ]
  },
  {
   "cell_type": "code",
   "execution_count": 4,
   "id": "c027e155",
   "metadata": {},
   "outputs": [],
   "source": [
    "# additional nodes for routing\n",
    "def router(state: AgentState) -> AgentState:\n",
    "    \"\"\"\n",
    "    Routes the state to the appropriate operation node based on the 'operation' field.\n",
    "    \"\"\"\n",
    "    if state['operation'] == '+':\n",
    "        return \"addition_operation\"\n",
    "    elif state['operation'] == '-':\n",
    "        return \"subtraction_operation\"\n",
    "    elif state['operation'] == '*':\n",
    "        return \"multiplication_operation\"\n",
    "    else:\n",
    "        return \"end_node\""
   ]
  },
  {
   "cell_type": "code",
   "execution_count": 5,
   "id": "96103c8a",
   "metadata": {},
   "outputs": [],
   "source": [
    "# StateGraph\n",
    "graph = StateGraph(AgentState) \n",
    "\n",
    "graph.add_node(\"addition_node\", addition_node)\n",
    "graph.add_node(\"subtraction_node\", subtraction_node)\n",
    "graph.add_node(\"multiplication_node\", multiplication_node)\n",
    "graph.add_node(\"router\", lambda state:state) # pass-through node for routing\n",
    "\n",
    "graph.add_edge(START, \"router\")\n",
    "\n",
    "graph.add_conditional_edges(\n",
    "    \"router\",\n",
    "    router,\n",
    "    # \"edge\":\"node\"\n",
    "    {\n",
    "        \"addition_operation\": \"addition_node\",\n",
    "        \"subtraction_operation\": \"subtraction_node\",\n",
    "        \"multiplication_operation\": \"multiplication_node\",\n",
    "        \"end_node\": END\n",
    "    }\n",
    ")\n",
    "\n",
    "graph.add_edge(\"addition_node\", END)\n",
    "graph.add_edge(\"subtraction_node\", END)\n",
    "graph.add_edge(\"multiplication_node\", END)\n",
    "\n",
    "app = graph.compile()"
   ]
  },
  {
   "cell_type": "code",
   "execution_count": 6,
   "id": "864d68ee",
   "metadata": {},
   "outputs": [],
   "source": [
    "# Visualize the graph\n",
    "# from IPython.display import display, Image\n",
    "# display(Image(app.get_graph().draw_mermaid_png()))"
   ]
  },
  {
   "cell_type": "code",
   "execution_count": 8,
   "id": "d2573f95",
   "metadata": {},
   "outputs": [
    {
     "data": {
      "text/plain": [
       "{'num1': 10, 'num2': 5, 'operation': '*', 'result': 50}"
      ]
     },
     "execution_count": 8,
     "metadata": {},
     "output_type": "execute_result"
    }
   ],
   "source": [
    "state_eg = AgentState(\n",
    "    num1=10,\n",
    "    num2=5,\n",
    "    operation='*'\n",
    ")\n",
    "# Run the app with an example state\n",
    "result = app.invoke(state_eg)\n",
    "result"
   ]
  }
 ],
 "metadata": {
  "kernelspec": {
   "display_name": "learning-langGraph-FPQ4h7Aw",
   "language": "python",
   "name": "python3"
  },
  "language_info": {
   "codemirror_mode": {
    "name": "ipython",
    "version": 3
   },
   "file_extension": ".py",
   "mimetype": "text/x-python",
   "name": "python",
   "nbconvert_exporter": "python",
   "pygments_lexer": "ipython3",
   "version": "3.12.3"
  }
 },
 "nbformat": 4,
 "nbformat_minor": 5
}
