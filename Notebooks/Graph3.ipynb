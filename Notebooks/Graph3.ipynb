{
 "cells": [
  {
   "cell_type": "markdown",
   "id": "8650fb6c",
   "metadata": {},
   "source": [
    "# Graph 3: A simpe sequential graph with a single path"
   ]
  },
  {
   "cell_type": "code",
   "execution_count": 1,
   "id": "9a3a6973",
   "metadata": {},
   "outputs": [],
   "source": [
    "#imports\n",
    "from typing import TypedDict\n",
    "from langgraph.graph import StateGraph"
   ]
  },
  {
   "cell_type": "code",
   "execution_count": 2,
   "id": "0e3a6bf6",
   "metadata": {},
   "outputs": [],
   "source": [
    "# Agent State\n",
    "class AgentState(TypedDict):\n",
    "    \"\"\"\n",
    "    Represents the state of the agent.\n",
    "    \"\"\"\n",
    "    name: str\n",
    "    age: str\n",
    "    final: str"
   ]
  },
  {
   "cell_type": "code",
   "execution_count": 3,
   "id": "dcdbe417",
   "metadata": {},
   "outputs": [],
   "source": [
    "# Node Definitions\n",
    "def first_node(state: AgentState) -> AgentState:\n",
    "    \"\"\"\n",
    "    First node in the state graph.\n",
    "    \"\"\"\n",
    "    state['final'] = f\"Hi, {state['name']}! \"\n",
    "    return state\n",
    "\n",
    "def second_node(state: AgentState) -> AgentState:\n",
    "    \"\"\"\n",
    "    Second node in the state graph.\n",
    "    \"\"\"\n",
    "    state['final'] += f\"You are {state['age']} years old. \"\n",
    "    return state"
   ]
  },
  {
   "cell_type": "code",
   "execution_count": 7,
   "id": "7d3efb10",
   "metadata": {},
   "outputs": [],
   "source": [
    "# State Graph Definition\n",
    "graph = StateGraph(AgentState)\n",
    "graph.add_node(\"first\", first_node)\n",
    "graph.add_node(\"second\", second_node)\n",
    "graph.add_edge(\"first\", \"second\")\n",
    "graph.set_entry_point(\"first\",)\n",
    "graph.set_finish_point(\"second\")\n",
    "app = graph.compile()"
   ]
  },
  {
   "cell_type": "code",
   "execution_count": 8,
   "id": "8d632d09",
   "metadata": {},
   "outputs": [
    {
     "data": {
      "image/png": "[encoded data removed]",
      "text/plain": [
       "<IPython.core.display.Image object>"
      ]
     },
     "metadata": {},
     "output_type": "display_data"
    }
   ],
   "source": [
    "# Visualize the graph\n",
    "from IPython.display import display, Image\n",
    "display(Image(app.get_graph().draw_mermaid_png()))"
   ]
  },
  {
   "cell_type": "code",
   "execution_count": 9,
   "id": "c23a4f24",
   "metadata": {},
   "outputs": [],
   "source": [
    "# Run the app\n",
    "result = app.invoke(\n",
    "    {\n",
    "        \"name\": \"Aditya\",\n",
    "        \"age\": \"30\",\n",
    "    }\n",
    ")"
   ]
  },
  {
   "cell_type": "code",
   "execution_count": 11,
   "id": "31c3d703",
   "metadata": {},
   "outputs": [
    {
     "data": {
      "text/plain": [
       "'Hi, Aditya! You are 30 years old. '"
      ]
     },
     "execution_count": 11,
     "metadata": {},
     "output_type": "execute_result"
    }
   ],
   "source": [
    "result['final']"
   ]
  },
  {
   "cell_type": "markdown",
   "id": "180daa21",
   "metadata": {},
   "source": [
    "## Exercise: "
   ]
  },
  {
   "cell_type": "code",
   "execution_count": 12,
   "id": "1587a30e",
   "metadata": {},
   "outputs": [],
   "source": [
    "# imports\n",
    "from langgraph.graph import StateGraph\n",
    "from typing import TypedDict, List"
   ]
  },
  {
   "cell_type": "code",
   "execution_count": 35,
   "id": "cd5a7cdd",
   "metadata": {},
   "outputs": [],
   "source": [
    "# State\n",
    "class State(TypedDict):\n",
    "    name: str\n",
    "    age: str\n",
    "    skills: List[str]\n",
    "    final: str"
   ]
  },
  {
   "cell_type": "code",
   "execution_count": 66,
   "id": "ece984cb",
   "metadata": {},
   "outputs": [],
   "source": [
    "# Nodes\n",
    "def first_node(state: State) -> State:\n",
    "    \"\"\"\n",
    "    First node in the state graph.\n",
    "    \"\"\"\n",
    "    state['final'] = f\"Hi, {state['name']}! Welcome to the system. \"\n",
    "    return state\n",
    "\n",
    "def second_node(state: State) -> State:\n",
    "    \"\"\"\n",
    "    Second node in the state graph.\n",
    "    \"\"\"\n",
    "    state['final'] += f\"You are {state['age']} years old. \"\n",
    "    return state\n",
    "\n",
    "def third_node(state: State) -> State:\n",
    "    \"\"\"\n",
    "    Third node in the state graph.\n",
    "    \"\"\"\n",
    "    try:\n",
    "        if state['skills']:\n",
    "            skills_str = \", \".join(state['skills'])\n",
    "            state['final'] += f\"Your skills are: {skills_str}. \"\n",
    "        else:\n",
    "            raise KeyError\n",
    "    except KeyError:\n",
    "        state['final'] += \"You have no skills listed. \"\n",
    "    return state"
   ]
  },
  {
   "cell_type": "code",
   "execution_count": 67,
   "id": "227a2bd0",
   "metadata": {},
   "outputs": [],
   "source": [
    "# State Graph\n",
    "graph = StateGraph(State)\n",
    "\n",
    "graph.add_node(\"first\", first_node)\n",
    "graph.add_node(\"second\", second_node)\n",
    "graph.add_node(\"third\", third_node)\n",
    "\n",
    "graph.add_edge(\"first\", \"second\")\n",
    "graph.add_edge(\"second\", \"third\")\n",
    "\n",
    "graph.set_entry_point(\"first\")\n",
    "graph.set_finish_point(\"third\")\n",
    "\n",
    "app2 = graph.compile()"
   ]
  },
  {
   "cell_type": "code",
   "execution_count": 68,
   "id": "93c3c433",
   "metadata": {},
   "outputs": [
    {
     "data": {
      "image/png": "[encoded data removed]",
      "text/plain": [
       "<IPython.core.display.Image object>"
      ]
     },
     "metadata": {},
     "output_type": "display_data"
    }
   ],
   "source": [
    "# Visualize\n",
    "from IPython.display import display, Image\n",
    "display(Image(app2.get_graph().draw_mermaid_png()))"
   ]
  },
  {
   "cell_type": "code",
   "execution_count": 72,
   "id": "53a3ff7d",
   "metadata": {},
   "outputs": [
    {
     "data": {
      "text/plain": [
       "'Hi, Aditya! Welcome to the system. You are 30 years old. You have no skills listed. '"
      ]
     },
     "execution_count": 72,
     "metadata": {},
     "output_type": "execute_result"
    }
   ],
   "source": [
    "# Execute\n",
    "result = app2.invoke(\n",
    "    {\n",
    "        \"name\": \"Aditya\",\n",
    "        \"age\": \"30\",\n",
    "        # \"skills\": [\"Python\", \"AI\", \"Data Science\"]\n",
    "    }\n",
    ")\n",
    "result['final']"
   ]
  }
 ],
 "metadata": {
  "kernelspec": {
   "display_name": "learning-langGraph-FPQ4h7Aw",
   "language": "python",
   "name": "python3"
  },
  "language_info": {
   "codemirror_mode": {
    "name": "ipython",
    "version": 3
   },
   "file_extension": ".py",
   "mimetype": "text/x-python",
   "name": "python",
   "nbconvert_exporter": "python",
   "pygments_lexer": "ipython3",
   "version": "3.12.3"
  }
 },
 "nbformat": 4,
 "nbformat_minor": 5
}
