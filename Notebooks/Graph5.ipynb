{
 "cells": [
  {
   "cell_type": "markdown",
   "id": "6f8bd2c1",
   "metadata": {},
   "source": [
    "# Graph 5: Looping Graph"
   ]
  },
  {
   "cell_type": "code",
   "execution_count": 52,
   "id": "ab86a0dd",
   "metadata": {},
   "outputs": [],
   "source": [
    "# imports\n",
    "from langgraph.graph import StateGraph, START, END\n",
    "from typing import List, TypedDict\n",
    "import random"
   ]
  },
  {
   "cell_type": "code",
   "execution_count": 53,
   "id": "bc1e8232",
   "metadata": {},
   "outputs": [],
   "source": [
    "# Agent State Schema\n",
    "class AgentState(TypedDict):\n",
    "    \"\"\"State for the agent.\"\"\"\n",
    "    name: str\n",
    "    nums: List[int]\n",
    "    counter: int\n",
    "    final: str"
   ]
  },
  {
   "cell_type": "code",
   "execution_count": 54,
   "id": "4fbb08ee",
   "metadata": {},
   "outputs": [],
   "source": [
    "# Node Definitions\n",
    "def greetings(state: AgentState) -> AgentState:\n",
    "    \"\"\"Initial greeting.\"\"\"\n",
    "    state['final'] = f\"Hello {state['name']}! Let's start counting.\"\n",
    "    state['nums'] = []  # Initialize list of numbers\n",
    "    return state\n",
    "\n",
    "def count(state: AgentState) -> AgentState:\n",
    "    \"\"\"Add a random number to the list and decrement the counter.\"\"\"\n",
    "    new_num = random.randint(1, 10)  # Generate a random number between 1 and 10\n",
    "    state['nums'].append(new_num)  # Add the number to the list\n",
    "    state['counter'] -= 1  # Decrement the counter\n",
    "    return state\n",
    "\n",
    "def stopper(state: AgentState) -> AgentState:\n",
    "    \"\"\"Check if the counter has reached zero.\"\"\"\n",
    "    return \"count_again\" if state['counter'] > 0 else \"finalize\"\n",
    "    "
   ]
  },
  {
   "cell_type": "code",
   "execution_count": 55,
   "id": "0c116661",
   "metadata": {},
   "outputs": [],
   "source": [
    "# Graph Definition\n",
    "graph = StateGraph(AgentState)\n",
    "\n",
    "graph.add_node(\"greeter\", greetings)\n",
    "graph.add_node(\"count\", count)\n",
    "\n",
    "graph.add_edge(START, \"greeter\")\n",
    "graph.add_edge(\"greeter\", \"count\")\n",
    "\n",
    "graph.add_conditional_edges(\n",
    "    \"count\", # source action\n",
    "    stopper, # action\n",
    "    {\n",
    "        \"count_again\": \"count\",\n",
    "        \"finalize\": END\n",
    "    }\n",
    ")\n",
    "\n",
    "app = graph.compile()\n"
   ]
  },
  {
   "cell_type": "code",
   "execution_count": 56,
   "id": "97d6fcbe",
   "metadata": {},
   "outputs": [
    {
     "data": {
      "image/png": "[encoded data removed]",
      "text/plain": [
       "<IPython.core.display.Image object>"
      ]
     },
     "metadata": {},
     "output_type": "display_data"
    }
   ],
   "source": [
    "# visualization\n",
    "from IPython.display import display, Image\n",
    "display(Image(app.get_graph().draw_mermaid_png()))"
   ]
  },
  {
   "cell_type": "code",
   "execution_count": 57,
   "id": "3d037673",
   "metadata": {},
   "outputs": [
    {
     "data": {
      "text/plain": [
       "{'name': 'Banzo',\n",
       " 'nums': [10, 8, 1, 6, 8],\n",
       " 'counter': 0,\n",
       " 'final': \"Hello Banzo! Let's start counting.\"}"
      ]
     },
     "execution_count": 57,
     "metadata": {},
     "output_type": "execute_result"
    }
   ],
   "source": [
    "example_state = AgentState(name=\"Banzo\", counter=5)\n",
    "app.invoke(example_state)"
   ]
  },
  {
   "cell_type": "markdown",
   "id": "771dbf24",
   "metadata": {},
   "source": [
    "## Exercise: Number Guesser"
   ]
  },
  {
   "cell_type": "code",
   "execution_count": 24,
   "id": "06e9a71f",
   "metadata": {},
   "outputs": [],
   "source": [
    "# imports\n",
    "from langgraph.graph import StateGraph, START, END\n",
    "import random\n",
    "from typing import List, TypedDict"
   ]
  },
  {
   "cell_type": "code",
   "execution_count": 25,
   "id": "ae95cbdc",
   "metadata": {},
   "outputs": [],
   "source": [
    "# state schema\n",
    "class AgentState(TypedDict):\n",
    "    \"\"\"State for the agent.\"\"\"\n",
    "    num_to_guess: int\n",
    "    attempts_left: int\n",
    "    lower_bount: int\n",
    "    upper_bount: int\n",
    "    guessed: List[int]\n",
    "    final: str"
   ]
  },
  {
   "cell_type": "code",
   "execution_count": 91,
   "id": "f5a53637",
   "metadata": {},
   "outputs": [],
   "source": [
    "# Nodes\n",
    "i = 1\n",
    "def setup_node(state: AgentState) -> AgentState:\n",
    "    \"\"\"Initial greeting and setup.\"\"\"\n",
    "    state['num_to_guess'] = random.randint(state['lower_bount'], state['upper_bount'])\n",
    "    state['attempts_left'] = 5  \n",
    "    state['guessed'] = []\n",
    "    # debugging output\n",
    "    global i\n",
    "    print(f\"{i}: {state}\")\n",
    "    i += 1\n",
    "    return state\n",
    "\n",
    "\n",
    "def guess_number(state: AgentState) -> AgentState:\n",
    "    \"\"\"Process the user's guess.\"\"\"\n",
    "    guess = random.randint(state['lower_bount'], state['upper_bount'])  # Simulate a guess\n",
    "    state['guessed'].append(guess)  \n",
    "    state['attempts_left'] -= 1  # Decrement attempts left\n",
    "    \n",
    "    # debugging output\n",
    "    global i\n",
    "    print(f\"{i}: {state}\")\n",
    "    i += 1\n",
    "    return state\n",
    "\n",
    "\n",
    "def check_guess(state: AgentState) -> AgentState:\n",
    "    \"\"\"Check if the guess is correct and adjust the state accordingly.\"\"\"\n",
    "    last_guess = state['guessed'][-1] \n",
    "    if last_guess == state['num_to_guess']:\n",
    "        state['final'] = f\"Congratulations! You guessed the number {state['num_to_guess']}!\"\n",
    "    elif state['attempts_left'] <= 0:\n",
    "        state['final'] = f\"Sorry, you've run out of attempts! The number was {state['num_to_guess']}.\"\n",
    "    elif last_guess < state['num_to_guess']:\n",
    "        state['final'] = f\"Your guess {last_guess} is too low. Try again!\"\n",
    "        state['lower_bount'] = last_guess + 1  # Adjust lower bound\n",
    "    else:\n",
    "        state['final'] = f\"Your guess {last_guess} is too high. Try again!\"\n",
    "        state['upper_bount'] = last_guess - 1\n",
    "    # debugging output\n",
    "    global i\n",
    "    print(f\"{i}: {state}\")\n",
    "    i += 1\n",
    "    return state\n",
    "\n",
    "# Not a node, but a function to determine the next action\n",
    "def validate_guess(state: AgentState) -> str:\n",
    "    \"\"\"Determine the next action based on the state.\"\"\"\n",
    "    if state['final'].startswith(\"Congratulations\") or state['final'].startswith(\"Sorry\"):\n",
    "        return \"finalize\"\n",
    "    return \"guess\"\n",
    "\n",
    "\n"
   ]
  },
  {
   "cell_type": "code",
   "execution_count": 92,
   "id": "7ed095ca",
   "metadata": {},
   "outputs": [],
   "source": [
    "# State Graph\n",
    "graph = StateGraph(AgentState)\n",
    "\n",
    "graph.add_node(\"setup\", setup_node)\n",
    "graph.add_node(\"guess_number\", guess_number)\n",
    "graph.add_node(\"check_guess\", check_guess)\n",
    "\n",
    "graph.add_edge(START, \"setup\")\n",
    "graph.add_edge(\"setup\", \"guess_number\")\n",
    "graph.add_edge(\"guess_number\", \"check_guess\")\n",
    "\n",
    "graph.add_conditional_edges(\n",
    "    \"check_guess\",  # source action\n",
    "    validate_guess,  # action to determine next step\n",
    "    {\n",
    "        \"guess\": \"guess_number\",  # if guess is needed, go back to guessing\n",
    "        \"finalize\": END  # if game is over, end the game\n",
    "    }\n",
    ")\n",
    "app = graph.compile()\n",
    "\n"
   ]
  },
  {
   "cell_type": "code",
   "execution_count": 93,
   "id": "68507def",
   "metadata": {},
   "outputs": [
    {
     "data": {
      "image/png": "[encoded data removed]",
      "text/plain": [
       "<IPython.core.display.Image object>"
      ]
     },
     "metadata": {},
     "output_type": "display_data"
    }
   ],
   "source": [
    "# Run the visualization\n",
    "from IPython.display import display, Image\n",
    "display(Image(app.get_graph().draw_mermaid_png()))"
   ]
  },
  {
   "cell_type": "code",
   "execution_count": 94,
   "id": "83287f9b",
   "metadata": {},
   "outputs": [
    {
     "name": "stdout",
     "output_type": "stream",
     "text": [
      "1: {'lower_bount': 1, 'upper_bount': 50, 'num_to_guess': 46, 'attempts_left': 5, 'guessed': []}\n",
      "2: {'num_to_guess': 46, 'attempts_left': 4, 'lower_bount': 1, 'upper_bount': 50, 'guessed': [34]}\n",
      "3: {'num_to_guess': 46, 'attempts_left': 4, 'lower_bount': 35, 'upper_bount': 50, 'guessed': [34], 'final': 'Your guess 34 is too low. Try again!'}\n",
      "4: {'num_to_guess': 46, 'attempts_left': 3, 'lower_bount': 35, 'upper_bount': 50, 'guessed': [34, 38], 'final': 'Your guess 34 is too low. Try again!'}\n",
      "5: {'num_to_guess': 46, 'attempts_left': 3, 'lower_bount': 39, 'upper_bount': 50, 'guessed': [34, 38], 'final': 'Your guess 38 is too low. Try again!'}\n",
      "6: {'num_to_guess': 46, 'attempts_left': 2, 'lower_bount': 39, 'upper_bount': 50, 'guessed': [34, 38, 45], 'final': 'Your guess 38 is too low. Try again!'}\n",
      "7: {'num_to_guess': 46, 'attempts_left': 2, 'lower_bount': 46, 'upper_bount': 50, 'guessed': [34, 38, 45], 'final': 'Your guess 45 is too low. Try again!'}\n",
      "8: {'num_to_guess': 46, 'attempts_left': 1, 'lower_bount': 46, 'upper_bount': 50, 'guessed': [34, 38, 45, 50], 'final': 'Your guess 45 is too low. Try again!'}\n",
      "9: {'num_to_guess': 46, 'attempts_left': 1, 'lower_bount': 46, 'upper_bount': 49, 'guessed': [34, 38, 45, 50], 'final': 'Your guess 50 is too high. Try again!'}\n",
      "10: {'num_to_guess': 46, 'attempts_left': 0, 'lower_bount': 46, 'upper_bount': 49, 'guessed': [34, 38, 45, 50, 47], 'final': 'Your guess 50 is too high. Try again!'}\n",
      "11: {'num_to_guess': 46, 'attempts_left': 0, 'lower_bount': 46, 'upper_bount': 49, 'guessed': [34, 38, 45, 50, 47], 'final': \"Sorry, you've run out of attempts! The number was 46.\"}\n"
     ]
    },
    {
     "data": {
      "text/plain": [
       "{'num_to_guess': 46,\n",
       " 'attempts_left': 0,\n",
       " 'lower_bount': 46,\n",
       " 'upper_bount': 49,\n",
       " 'guessed': [34, 38, 45, 50, 47],\n",
       " 'final': \"Sorry, you've run out of attempts! The number was 46.\"}"
      ]
     },
     "execution_count": 94,
     "metadata": {},
     "output_type": "execute_result"
    }
   ],
   "source": [
    "# example state\n",
    "example_state = AgentState(\n",
    "    lower_bount=1,\n",
    "    upper_bount=50,\n",
    ")\n",
    "app.invoke(example_state)"
   ]
  },
  {
   "cell_type": "code",
   "execution_count": null,
   "id": "3aeee790",
   "metadata": {},
   "outputs": [],
   "source": []
  }
 ],
 "metadata": {
  "kernelspec": {
   "display_name": "learning-langGraph-FPQ4h7Aw",
   "language": "python",
   "name": "python3"
  },
  "language_info": {
   "codemirror_mode": {
    "name": "ipython",
    "version": 3
   },
   "file_extension": ".py",
   "mimetype": "text/x-python",
   "name": "python",
   "nbconvert_exporter": "python",
   "pygments_lexer": "ipython3",
   "version": "3.12.3"
  }
 },
 "nbformat": 4,
 "nbformat_minor": 5
}
