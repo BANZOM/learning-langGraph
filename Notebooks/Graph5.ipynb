{
 "cells": [
  {
   "cell_type": "markdown",
   "id": "6f8bd2c1",
   "metadata": {},
   "source": [
    "# Graph 5: Looping Graph"
   ]
  },
  {
   "cell_type": "code",
   "execution_count": 52,
   "id": "ab86a0dd",
   "metadata": {},
   "outputs": [],
   "source": [
    "# imports\n",
    "from langgraph.graph import StateGraph, START, END\n",
    "from typing import List, TypedDict\n",
    "import random"
   ]
  },
  {
   "cell_type": "code",
   "execution_count": 53,
   "id": "bc1e8232",
   "metadata": {},
   "outputs": [],
   "source": [
    "# Agent State Schema\n",
    "class AgentState(TypedDict):\n",
    "    \"\"\"State for the agent.\"\"\"\n",
    "    name: str\n",
    "    nums: List[int]\n",
    "    counter: int\n",
    "    final: str"
   ]
  },
  {
   "cell_type": "code",
   "execution_count": 54,
   "id": "4fbb08ee",
   "metadata": {},
   "outputs": [],
   "source": [
    "# Node Definitions\n",
    "def greetings(state: AgentState) -> AgentState:\n",
    "    \"\"\"Initial greeting.\"\"\"\n",
    "    state['final'] = f\"Hello {state['name']}! Let's start counting.\"\n",
    "    state['nums'] = []  # Initialize list of numbers\n",
    "    return state\n",
    "\n",
    "def count(state: AgentState) -> AgentState:\n",
    "    \"\"\"Add a random number to the list and decrement the counter.\"\"\"\n",
    "    new_num = random.randint(1, 10)  # Generate a random number between 1 and 10\n",
    "    state['nums'].append(new_num)  # Add the number to the list\n",
    "    state['counter'] -= 1  # Decrement the counter\n",
    "    return state\n",
    "\n",
    "def stopper(state: AgentState) -> AgentState:\n",
    "    \"\"\"Check if the counter has reached zero.\"\"\"\n",
    "    return \"count_again\" if state['counter'] > 0 else \"finalize\"\n",
    "    "
   ]
  },
  {
   "cell_type": "code",
   "execution_count": 55,
   "id": "0c116661",
   "metadata": {},
   "outputs": [],
   "source": [
    "# Graph Definition\n",
    "graph = StateGraph(AgentState)\n",
    "\n",
    "graph.add_node(\"greeter\", greetings)\n",
    "graph.add_node(\"count\", count)\n",
    "\n",
    "graph.add_edge(START, \"greeter\")\n",
    "graph.add_edge(\"greeter\", \"count\")\n",
    "\n",
    "graph.add_conditional_edges(\n",
    "    \"count\", # source action\n",
    "    stopper, # action\n",
    "    {\n",
    "        \"count_again\": \"count\",\n",
    "        \"finalize\": END\n",
    "    }\n",
    ")\n",
    "\n",
    "app = graph.compile()\n"
   ]
  },
  {
   "cell_type": "code",
   "execution_count": 56,
   "id": "97d6fcbe",
   "metadata": {},
   "outputs": [
    {
     "data": {
      "image/png": "[encoded data removed]",
      "text/plain": [
       "<IPython.core.display.Image object>"
      ]
     },
     "metadata": {},
     "output_type": "display_data"
    }
   ],
   "source": [
    "# visualization\n",
    "from IPython.display import display, Image\n",
    "display(Image(app.get_graph().draw_mermaid_png()))"
   ]
  },
  {
   "cell_type": "code",
   "execution_count": 57,
   "id": "3d037673",
   "metadata": {},
   "outputs": [
    {
     "data": {
      "text/plain": [
       "{'name': 'Banzo',\n",
       " 'nums': [10, 8, 1, 6, 8],\n",
       " 'counter': 0,\n",
       " 'final': \"Hello Banzo! Let's start counting.\"}"
      ]
     },
     "execution_count": 57,
     "metadata": {},
     "output_type": "execute_result"
    }
   ],
   "source": [
    "example_state = AgentState(name=\"Banzo\", counter=5)\n",
    "app.invoke(example_state)"
   ]
  }
 ],
 "metadata": {
  "kernelspec": {
   "display_name": "learning-langGraph-FPQ4h7Aw",
   "language": "python",
   "name": "python3"
  },
  "language_info": {
   "codemirror_mode": {
    "name": "ipython",
    "version": 3
   },
   "file_extension": ".py",
   "mimetype": "text/x-python",
   "name": "python",
   "nbconvert_exporter": "python",
   "pygments_lexer": "ipython3",
   "version": "3.12.3"
  }
 },
 "nbformat": 4,
 "nbformat_minor": 5
}
